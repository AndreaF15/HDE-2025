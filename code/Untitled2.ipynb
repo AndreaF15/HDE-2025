{
 "cells": [
  {
   "cell_type": "code",
   "execution_count": 2,
   "id": "e8ea658c-ec96-42ee-8896-5dba075612f0",
   "metadata": {},
   "outputs": [
    {
     "ename": "SyntaxError",
     "evalue": "unexpected character after line continuation character (1529454792.py, line 1)",
     "output_type": "error",
     "traceback": [
      "\u001b[0;36m  Cell \u001b[0;32mIn[2], line 1\u001b[0;36m\u001b[0m\n\u001b[0;31m    \\documentclass{article}\u001b[0m\n\u001b[0m     ^\u001b[0m\n\u001b[0;31mSyntaxError\u001b[0m\u001b[0;31m:\u001b[0m unexpected character after line continuation character\n"
     ]
    }
   ],
   "source": [
    "\\documentclass{article}\n",
    "\\usepackage{amsmath}\n",
    "\n",
    "\\begin{document}\n",
    "\n",
    "\\section*{Problema 4: Modelo Homocedástico}\n",
    "\n",
    "\\subsection*{Modelo original}\n",
    "El modelo original es:\n",
    "\\[\n",
    "Y = X_1' \\beta_1 + X_2' \\beta_2 + e,\n",
    "\\]\n",
    "con las siguientes propiedades:\n",
    "\\begin{enumerate}\n",
    "    \\item \\( E[e \\mid X_1, X_2] = 0 \\),\n",
    "    \\item \\( E[e^2 \\mid X_1, X_2] = \\sigma^2 \\) (homocedasticidad),\n",
    "    \\item \\( E[X_2 \\mid X_1] = \\Gamma X_1 \\), donde \\( \\Gamma \\neq 0 \\).\n",
    "\\end{enumerate}\n",
    "\n",
    "\\subsection*{Modelo reducido}\n",
    "Cuando se excluye \\(X_2\\), el modelo proyectado sobre \\(X_1\\) es:\n",
    "\\[\n",
    "Y = X_1' \\tilde{\\beta}_1 + \\tilde{e},\n",
    "\\]\n",
    "donde el nuevo error \\(\\tilde{e}\\) está dado por:\n",
    "\\[\n",
    "\\tilde{e} = X_2' \\beta_2 + e.\n",
    "\\]\n",
    "\n",
    "\\subsection*{Propiedad de homocedasticidad}\n",
    "En el modelo original, el error \\(e\\) es homocedástico:\n",
    "\\[\n",
    "E[e^2 \\mid X_1, X_2] = \\sigma^2,\n",
    "\\]\n",
    "independiente de \\(X_1\\) y \\(X_2\\).\n",
    "\n",
    "Sin embargo, al omitir \\(X_2\\), la varianza condicional del nuevo error \\(\\tilde{e}\\) es:\n",
    "\\[\n",
    "E[\\tilde{e}^2 \\mid X_1] = E[(X_2' \\beta_2 + e)^2 \\mid X_1].\n",
    "\\]\n",
    "\n",
    "Expandiendo este término:\n",
    "\\[\n",
    "E[\\tilde{e}^2 \\mid X_1] = E[(X_2' \\beta_2)^2 \\mid X_1] + 2E[X_2' \\beta_2 e \\mid X_1] + E[e^2 \\mid X_1].\n",
    "\\]\n",
    "\\begin{itemize}\n",
    "    \\item El término \\(E[(X_2' \\beta_2)^2 \\mid X_1]\\) depende de \\(X_1\\) debido a \\(E[X_2 \\mid X_1] = \\Gamma X_1\\).\n",
    "    \\item El término \\(2E[X_2' \\beta_2 e \\mid X_1]\\) es cero porque \\(E[e \\mid X_1, X_2] = 0\\).\n",
    "    \\item El término \\(E[e^2 \\mid X_1]\\) es constante (homocedasticidad en el modelo original).\n",
    "\\end{itemize}\n",
    "\n",
    "Por lo tanto:\n",
    "\\[\n",
    "E[\\tilde{e}^2 \\mid X_1] \\neq \\text{constante},\n",
    "\\]\n",
    "lo que indica heterocedasticidad en el modelo reducido.\n",
    "\n",
    "\\subsection*{Conclusión}\n",
    "La exclusión de \\(X_2\\) induce \\textbf{heterocedasticidad} en el error \\(\\tilde{e}\\) porque la varianza condicional de \\(\\tilde{e}\\) depende de \\(X_1\\). Esto ocurre debido a la relación \\(E[X_2 \\mid X_1] = \\Gamma X_1\\), que genera dependencia entre \\(X_1\\) y el término omitido \\(X_2' \\beta_2\\).\n",
    "\n",
    "\\end{document}\n",
    "\n",
    "    "
   ]
  },
  {
   "cell_type": "code",
   "execution_count": null,
   "id": "cfcef215-2baa-4669-9565-b861cf3916dc",
   "metadata": {},
   "outputs": [],
   "source": [
    "\"\"\"\n",
    "---------\n",
    "sin2_theta  = np.sin(theta)**2\n",
    "\"\"\"\n",
    "import math\n",
    "import numpy as np\n",
    "from lib.analytical import csa\n",
    "\n",
    "sin2_theta = np.sin(theta)**2\n",
    "+= -= *= /= + - * / ? < > & % == <=\n",
    "# += -= *= /= + - * / ? < > & % == <=\n",
    "def test(a=100, b=True):\n",
    "<= >= == 2 + 3j * 7e-3"
   ]
  },
  {
   "cell_type": "code",
   "execution_count": null,
   "id": "edb6ceaf-9f39-42dd-9937-48a98598f9e0",
   "metadata": {},
   "outputs": [],
   "source": []
  }
 ],
 "metadata": {
  "kernelspec": {
   "display_name": "Python 3 (ipykernel)",
   "language": "python",
   "name": "python3"
  },
  "language_info": {
   "codemirror_mode": {
    "name": "ipython",
    "version": 3
   },
   "file_extension": ".py",
   "mimetype": "text/x-python",
   "name": "python",
   "nbconvert_exporter": "python",
   "pygments_lexer": "ipython3",
   "version": "3.11.0"
  }
 },
 "nbformat": 4,
 "nbformat_minor": 5
}
